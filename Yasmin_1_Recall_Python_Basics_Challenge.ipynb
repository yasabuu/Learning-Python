{
  "cells": [
    {
      "cell_type": "markdown",
      "metadata": {
        "id": "fhlLb9BKgfgp"
      },
      "source": [
        " ![Emil](data:image/png;base64,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)"
      ]
    },
    {
      "cell_type": "markdown",
      "metadata": {
        "id": "b8BkIRvbgfgq"
      },
      "source": [
        "# Recall Python Basics"
      ]
    },
    {
      "cell_type": "markdown",
      "metadata": {
        "id": "MocDAs97Va87"
      },
      "source": [
        "Before you start, Google Colab is going to be your friend for the next few days, so you'd better start to get familiar with it! \\\n",
        "Here you'll find **tutorials and tips** for getting started on Google Colab. Don't worry, Colab is renowned for being user-friendly! 🤗\n",
        "\n",
        "[Tutorials & Tips 🔗](https://lewagon.notion.site/Get-Started-with-Google-Colaboratory-916b255b21fa495baa58b654c90f7f86)\n"
      ]
    },
    {
      "cell_type": "markdown",
      "metadata": {
        "id": "uLh5qevGgfgt"
      },
      "source": [
        "## Basic initialisations"
      ]
    },
    {
      "cell_type": "markdown",
      "metadata": {
        "id": "puantXVYgfgu"
      },
      "source": [
        "Initialise two variables `a` and `b`, respectively equal to `5` and `20`\n"
      ]
    },
    {
      "cell_type": "code",
      "execution_count": null,
      "metadata": {
        "ExecuteTime": {
          "end_time": "2024-02-13T10:51:21.719837Z",
          "start_time": "2024-02-13T10:51:21.712995Z"
        },
        "id": "sF4QvrE3gfgv"
      },
      "outputs": [],
      "source": [
        "a = 5\n",
        "\n",
        "b = 20"
      ]
    },
    {
      "cell_type": "markdown",
      "metadata": {
        "id": "IX3l0HbFgfgz"
      },
      "source": [
        "Display the value of `a`\n"
      ]
    },
    {
      "cell_type": "code",
      "execution_count": null,
      "metadata": {
        "ExecuteTime": {
          "end_time": "2024-02-13T10:51:26.692242Z",
          "start_time": "2024-02-13T10:51:26.669873Z"
        },
        "id": "uhr5YhUqgfg0",
        "outputId": "1ede4a96-1829-4644-e914-6f7acc21467c",
        "colab": {
          "base_uri": "https://localhost:8080/"
        }
      },
      "outputs": [
        {
          "output_type": "execute_result",
          "data": {
            "text/plain": [
              "5"
            ]
          },
          "metadata": {},
          "execution_count": 5
        }
      ],
      "source": [
        "a"
      ]
    },
    {
      "cell_type": "markdown",
      "metadata": {
        "id": "1umKra8tgfg3"
      },
      "source": [
        "Change the value of `a` to 7\n",
        "\n"
      ]
    },
    {
      "cell_type": "code",
      "execution_count": null,
      "metadata": {
        "ExecuteTime": {
          "end_time": "2024-02-13T10:51:31.105063Z",
          "start_time": "2024-02-13T10:51:31.098963Z"
        },
        "id": "8SUVSVJvgfg3"
      },
      "outputs": [],
      "source": [
        "a=7"
      ]
    },
    {
      "cell_type": "markdown",
      "metadata": {
        "id": "OuNWNUDxgfg5"
      },
      "source": [
        "Display the new value of `a`\n"
      ]
    },
    {
      "cell_type": "code",
      "execution_count": null,
      "metadata": {
        "ExecuteTime": {
          "end_time": "2024-02-13T10:54:00.232236Z",
          "start_time": "2024-02-13T10:54:00.226011Z"
        },
        "id": "VURDnYTEgfg6",
        "outputId": "ffa9e54d-8290-48a6-8370-cc30e1f00cd3",
        "colab": {
          "base_uri": "https://localhost:8080/"
        }
      },
      "outputs": [
        {
          "output_type": "execute_result",
          "data": {
            "text/plain": [
              "7"
            ]
          },
          "metadata": {},
          "execution_count": 7
        }
      ],
      "source": [
        "a"
      ]
    },
    {
      "cell_type": "markdown",
      "metadata": {
        "id": "OArRQEQAgfg9"
      },
      "source": [
        "Create a new variable `d` equal to the product of variables `a` and `b`. What is the type of `d`?\n",
        "\n"
      ]
    },
    {
      "cell_type": "code",
      "execution_count": null,
      "metadata": {
        "ExecuteTime": {
          "end_time": "2024-02-13T10:54:29.960100Z",
          "start_time": "2024-02-13T10:54:29.952348Z"
        },
        "id": "mPlfd9pygfg9",
        "outputId": "07060cd8-d84d-4be6-fdd1-a2dbddd51aea",
        "colab": {
          "base_uri": "https://localhost:8080/"
        }
      },
      "outputs": [
        {
          "output_type": "execute_result",
          "data": {
            "text/plain": [
              "int"
            ]
          },
          "metadata": {},
          "execution_count": 10
        }
      ],
      "source": [
        "d = a*b\n",
        "type(d)"
      ]
    },
    {
      "cell_type": "markdown",
      "metadata": {
        "id": "rK5fjaH-L1aI"
      },
      "source": [
        "We want to switch values between `a` and `b`. How can we proceed ?\n",
        "\n",
        "\n",
        "<details>\n",
        "    <summary>Hint 💡</summary>\n",
        "    \n",
        "Think of introducing new elements...\n",
        "</details>"
      ]
    },
    {
      "cell_type": "code",
      "execution_count": null,
      "metadata": {
        "ExecuteTime": {
          "end_time": "2024-02-13T11:14:15.078796Z",
          "start_time": "2024-02-13T11:14:15.068195Z"
        },
        "id": "2vn3T7vnL0vV",
        "outputId": "74ef1267-cbe2-4aaf-a20b-57e25be1df28",
        "colab": {
          "base_uri": "https://localhost:8080/"
        }
      },
      "outputs": [
        {
          "output_type": "stream",
          "name": "stdout",
          "text": [
            "a = 20\n",
            "b = 5\n"
          ]
        }
      ],
      "source": [
        "c=a\n",
        "a=b\n",
        "b=c\n",
        "print(\"a =\", a)\n",
        "print(\"b =\", b)"
      ]
    },
    {
      "cell_type": "markdown",
      "source": [],
      "metadata": {
        "id": "3Qcw8berdAD9"
      }
    },
    {
      "cell_type": "markdown",
      "metadata": {
        "id": "9HkYCn8-gfhK"
      },
      "source": [
        "## Create conditions\n"
      ]
    },
    {
      "cell_type": "markdown",
      "metadata": {
        "id": "3CA4tS8xgfhK"
      },
      "source": [
        "Create a new variable `e` equal to 20 and create a condition that will display `\"strictly greater than 5\"` if this variable is indeed strictly greater than 5.\n",
        "\n",
        "\n",
        "💡 Have a look at the lecture to see how to properly write a condition in Python.\n"
      ]
    },
    {
      "cell_type": "code",
      "execution_count": null,
      "metadata": {
        "ExecuteTime": {
          "end_time": "2024-02-13T11:51:31.540380Z",
          "start_time": "2024-02-13T11:51:31.530506Z"
        },
        "id": "1aZVTunYgfhL",
        "outputId": "71fb95ee-362d-4697-de05-e6a8b5239feb",
        "colab": {
          "base_uri": "https://localhost:8080/"
        }
      },
      "outputs": [
        {
          "output_type": "stream",
          "name": "stdout",
          "text": [
            "strictly greater than 5\n"
          ]
        }
      ],
      "source": [
        "e = 20\n",
        "if e > 5 :\n",
        "  print(\"strictly greater than 5\")"
      ]
    },
    {
      "cell_type": "markdown",
      "metadata": {
        "id": "F5D575_UgfhN"
      },
      "source": [
        "Complete the previous code to display `\"less than or equal to 5\"` if the variable is not greater than 5.\n",
        "\n",
        "\n",
        "Try to assign different values to the variable `e`and test your code with those new values.\n"
      ]
    },
    {
      "cell_type": "code",
      "execution_count": null,
      "metadata": {
        "ExecuteTime": {
          "end_time": "2024-02-13T11:52:36.260347Z",
          "start_time": "2024-02-13T11:52:36.246644Z"
        },
        "id": "ewKuD1GegfhN",
        "outputId": "e0781146-e7f3-48c2-9585-18690cf72346",
        "colab": {
          "base_uri": "https://localhost:8080/"
        }
      },
      "outputs": [
        {
          "output_type": "stream",
          "name": "stdout",
          "text": [
            "less than or equal to 5\n"
          ]
        }
      ],
      "source": [
        "e = 4\n",
        "if e <= 5 :\n",
        "  print(\"less than or equal to 5\")"
      ]
    },
    {
      "cell_type": "markdown",
      "metadata": {
        "id": "3IcJv8ZugfhQ"
      },
      "source": [
        "Complete the previous code to display `\"equal to 5\"` if e is equal to 5.\n",
        "\n",
        "Test your code on several values of `e`.\n",
        "\n",
        "<details>\n",
        "    <summary>Hint 💡</summary>\n",
        "    \n",
        "    \n",
        "`elif`\n",
        "</details>"
      ]
    },
    {
      "cell_type": "code",
      "execution_count": null,
      "metadata": {
        "ExecuteTime": {
          "end_time": "2024-02-13T11:53:43.367835Z",
          "start_time": "2024-02-13T11:53:43.349599Z"
        },
        "id": "TEFg-9cQgfhQ",
        "outputId": "80e28e7c-a434-4364-dcac-228e339d11c9",
        "colab": {
          "base_uri": "https://localhost:8080/"
        }
      },
      "outputs": [
        {
          "output_type": "stream",
          "name": "stdout",
          "text": [
            "equal to 5\n"
          ]
        }
      ],
      "source": [
        "e = 5\n",
        "if e < 5 :\n",
        "  print(\"less than 5\")\n",
        "elif e == 5 :\n",
        "  print(\"equal to 5\")"
      ]
    },
    {
      "cell_type": "markdown",
      "metadata": {
        "id": "0uUn8_engfhV"
      },
      "source": [
        "## Lists\n"
      ]
    },
    {
      "cell_type": "markdown",
      "metadata": {
        "id": "05Cny4N0gfhW"
      },
      "source": [
        "Create a list `list_example` of values 3, 5, 12, 7, 4 and 36"
      ]
    },
    {
      "cell_type": "code",
      "execution_count": null,
      "metadata": {
        "ExecuteTime": {
          "end_time": "2024-02-13T11:54:40.149682Z",
          "start_time": "2024-02-13T11:54:40.137351Z"
        },
        "id": "A-xynbVrgfhW"
      },
      "outputs": [],
      "source": [
        "list_example = [3, 5, 12, 7, 4, 36]"
      ]
    },
    {
      "cell_type": "markdown",
      "metadata": {
        "id": "dCkg6gDEoiE8"
      },
      "source": [
        "Now add the value `2` to the list."
      ]
    },
    {
      "cell_type": "code",
      "execution_count": null,
      "metadata": {
        "ExecuteTime": {
          "end_time": "2024-02-13T11:54:59.621066Z",
          "start_time": "2024-02-13T11:54:59.608877Z"
        },
        "id": "RPkbdEa0M29k",
        "outputId": "e2013022-7c05-404f-bb09-36385bed671d",
        "colab": {
          "base_uri": "https://localhost:8080/"
        }
      },
      "outputs": [
        {
          "output_type": "execute_result",
          "data": {
            "text/plain": [
              "[3, 5, 12, 7, 4, 36, 2]"
            ]
          },
          "metadata": {},
          "execution_count": 43
        }
      ],
      "source": [
        "list_example.append(2)\n",
        "list_example"
      ]
    },
    {
      "cell_type": "markdown",
      "metadata": {
        "id": "9bXWlkyFXT7R"
      },
      "source": [
        "Display the length of `list_example`"
      ]
    },
    {
      "cell_type": "code",
      "execution_count": null,
      "metadata": {
        "ExecuteTime": {
          "end_time": "2024-02-13T11:55:12.268563Z",
          "start_time": "2024-02-13T11:55:12.259294Z"
        },
        "id": "bp55VoqwNWyl",
        "outputId": "12ad676c-f8df-42e8-aa7c-2e48284526fc",
        "colab": {
          "base_uri": "https://localhost:8080/"
        }
      },
      "outputs": [
        {
          "output_type": "execute_result",
          "data": {
            "text/plain": [
              "7"
            ]
          },
          "metadata": {},
          "execution_count": 47
        }
      ],
      "source": [
        "len(list_example)"
      ]
    },
    {
      "cell_type": "markdown",
      "metadata": {
        "id": "yCK7BoLngfhY"
      },
      "source": [
        "Display the first element of `list_example`\n"
      ]
    },
    {
      "cell_type": "code",
      "execution_count": null,
      "metadata": {
        "ExecuteTime": {
          "end_time": "2024-02-13T11:55:18.274700Z",
          "start_time": "2024-02-13T11:55:18.252449Z"
        },
        "id": "6EDt1uzPgfhZ",
        "outputId": "ff1ca17b-47f1-41cd-abe8-78d3512c1652",
        "colab": {
          "base_uri": "https://localhost:8080/"
        }
      },
      "outputs": [
        {
          "output_type": "execute_result",
          "data": {
            "text/plain": [
              "[3]"
            ]
          },
          "metadata": {},
          "execution_count": 46
        }
      ],
      "source": [
        "list_example [0:1]"
      ]
    },
    {
      "cell_type": "markdown",
      "metadata": {
        "id": "6-rcsIs3gfhb"
      },
      "source": [
        "Change the third item in the list to 17 and display the modified list"
      ]
    },
    {
      "cell_type": "code",
      "execution_count": null,
      "metadata": {
        "ExecuteTime": {
          "end_time": "2024-02-13T11:55:40.210808Z",
          "start_time": "2024-02-13T11:55:40.186043Z"
        },
        "id": "YVjIgfCggfhb",
        "outputId": "6fc8fd7b-84bf-47eb-ad9e-fbb08085d92f",
        "colab": {
          "base_uri": "https://localhost:8080/"
        }
      },
      "outputs": [
        {
          "output_type": "execute_result",
          "data": {
            "text/plain": [
              "[3, 5, 17, 7, 4, 36, 2]"
            ]
          },
          "metadata": {},
          "execution_count": 48
        }
      ],
      "source": [
        "list_example [2] = 17\n",
        "list_example"
      ]
    },
    {
      "cell_type": "markdown",
      "metadata": {
        "id": "seRp-HCVgfhd"
      },
      "source": [
        "With a loop, display the multiples of 4 in `list_example` one below the other.\n",
        "\n",
        "<details>\n",
        "    <summary>Hint 💡</summary>\n",
        "    \n",
        "    \n",
        "You can write the following condition `val % 4 == 0` to test if the variable `val` is a multiple of 4.\n",
        "    \n",
        "\n",
        "The `%` sign in Python refers to the [modulo](https://simple.wikipedia.org/wiki/Modulation_(mathematics)). We test if the remainder of the division of `val` by 4 is 0 or not.\n",
        "</details>"
      ]
    },
    {
      "cell_type": "code",
      "execution_count": null,
      "metadata": {
        "ExecuteTime": {
          "end_time": "2024-02-13T11:56:32.662135Z",
          "start_time": "2024-02-13T11:56:32.652163Z"
        },
        "id": "kfYeem0Dd7xf",
        "outputId": "b1b5188f-a00b-442e-b31d-10d8eb095298",
        "colab": {
          "base_uri": "https://localhost:8080/"
        }
      },
      "outputs": [
        {
          "output_type": "stream",
          "name": "stdout",
          "text": [
            "False\n",
            "False\n",
            "False\n",
            "False\n",
            "True\n",
            "True\n",
            "False\n"
          ]
        }
      ],
      "source": [
        "for val in list_example:\n",
        "  print (val % 4 == 0)"
      ]
    },
    {
      "cell_type": "markdown",
      "metadata": {
        "id": "9Si0OEPDgfh4"
      },
      "source": [
        "## Dictionaries\n"
      ]
    },
    {
      "cell_type": "markdown",
      "metadata": {
        "id": "eUo9-cq6gfh5"
      },
      "source": [
        "Run the code below to initialise the dictionary."
      ]
    },
    {
      "cell_type": "code",
      "execution_count": null,
      "metadata": {
        "ExecuteTime": {
          "end_time": "2024-02-13T11:56:42.490213Z",
          "start_time": "2024-02-13T11:56:42.484167Z"
        },
        "id": "fUI43nW6gfh5"
      },
      "outputs": [],
      "source": [
        "dict_example = {\n",
        "    \"A\": \"car\",\n",
        "    \"B\": 2,\n",
        "    \"C\": \"bike\"\n",
        "}"
      ]
    },
    {
      "cell_type": "markdown",
      "metadata": {
        "id": "OYLVzSnbgfh7"
      },
      "source": [
        "Display the keys of `dict_example`\n"
      ]
    },
    {
      "cell_type": "code",
      "execution_count": null,
      "metadata": {
        "ExecuteTime": {
          "end_time": "2024-02-13T11:56:50.020353Z",
          "start_time": "2024-02-13T11:56:49.992817Z"
        },
        "id": "GPPj9rfjgfh8",
        "outputId": "2cb30dc2-8aaa-4ca3-a15d-e7fbc6358184",
        "colab": {
          "base_uri": "https://localhost:8080/"
        }
      },
      "outputs": [
        {
          "output_type": "stream",
          "name": "stdout",
          "text": [
            "A\n",
            "B\n",
            "C\n"
          ]
        }
      ],
      "source": [
        "for key in dict_example:\n",
        "  print(key)"
      ]
    },
    {
      "cell_type": "markdown",
      "metadata": {
        "id": "HaXlNHP2gfh-"
      },
      "source": [
        "Display the value associated to the `C` key\n",
        "\n"
      ]
    },
    {
      "cell_type": "code",
      "execution_count": null,
      "metadata": {
        "ExecuteTime": {
          "end_time": "2024-02-13T11:57:02.926446Z",
          "start_time": "2024-02-13T11:57:02.906420Z"
        },
        "id": "NzwdGO61gfh_",
        "outputId": "970b4e6e-9eac-4b63-e300-664eed258d95",
        "colab": {
          "base_uri": "https://localhost:8080/",
          "height": 35
        }
      },
      "outputs": [
        {
          "output_type": "execute_result",
          "data": {
            "text/plain": [
              "'bike'"
            ],
            "application/vnd.google.colaboratory.intrinsic+json": {
              "type": "string"
            }
          },
          "metadata": {},
          "execution_count": 3
        }
      ],
      "source": [
        "dict_example [\"C\"]"
      ]
    },
    {
      "cell_type": "markdown",
      "metadata": {
        "id": "D-8UIuGLgfiB"
      },
      "source": [
        "Add a new key `D` with an associated value of `8`. Display `dict_example` to check the result.\n"
      ]
    },
    {
      "cell_type": "code",
      "execution_count": null,
      "metadata": {
        "ExecuteTime": {
          "end_time": "2024-02-13T11:57:23.404691Z",
          "start_time": "2024-02-13T11:57:23.390296Z"
        },
        "id": "bymhvLxqgfiC",
        "outputId": "02896d70-e527-4703-e75a-19ca52b3a566",
        "colab": {
          "base_uri": "https://localhost:8080/"
        }
      },
      "outputs": [
        {
          "output_type": "execute_result",
          "data": {
            "text/plain": [
              "{'A': 'car', 'B': 2, 'C': 'bike', 'D': 8}"
            ]
          },
          "metadata": {},
          "execution_count": 4
        }
      ],
      "source": [
        "dict_example [\"D\"] = 8\n",
        "dict_example"
      ]
    }
  ],
  "metadata": {
    "colab": {
      "collapsed_sections": [
        "9HkYCn8-gfhK",
        "0uUn8_engfhV",
        "9Si0OEPDgfh4"
      ],
      "provenance": []
    },
    "kernelspec": {
      "display_name": "Python 3 (ipykernel)",
      "language": "python",
      "name": "python3"
    },
    "language_info": {
      "codemirror_mode": {
        "name": "ipython",
        "version": 3
      },
      "file_extension": ".py",
      "mimetype": "text/x-python",
      "name": "python",
      "nbconvert_exporter": "python",
      "pygments_lexer": "ipython3",
      "version": "3.10.6"
    },
    "toc": {
      "base_numbering": 1,
      "nav_menu": {},
      "number_sections": true,
      "sideBar": true,
      "skip_h1_title": false,
      "title_cell": "Table of Contents",
      "title_sidebar": "Contents",
      "toc_cell": false,
      "toc_position": {},
      "toc_section_display": true,
      "toc_window_display": false
    }
  },
  "nbformat": 4,
  "nbformat_minor": 0
}